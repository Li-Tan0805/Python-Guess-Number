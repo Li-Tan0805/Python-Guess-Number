{
 "cells": [
  {
   "cell_type": "code",
   "execution_count": 20,
   "metadata": {
    "collapsed": false
   },
   "outputs": [
    {
     "name": "stdout",
     "output_type": "stream",
     "text": [
      "Guessing Numbers!\n",
      "Rule: You are given 8 chances, in each chance, type in a four digit number, the system will then return the result as A and B - A means correct number in the correct position; B means correct number in the wrong position.\n",
      "Press Enter to start:\n",
      "please type in four-digit number:1470\n",
      "1 A 0 B - You have 7 chances left!\n",
      "please type in four-digit number:2580\n",
      "0 A 3 B - You have 6 chances left!\n",
      "please type in four-digit number:3690\n",
      "0 A 0 B - You have 5 chances left!\n",
      "please type in four-digit number:1258\n",
      "0 A 3 B - You have 4 chances left!\n",
      "please type in four-digit number:4258\n",
      "0 A 3 B - You have 3 chances left!\n",
      "please type in four-digit number:5872\n",
      "You get it! The correct number is 5872 !\n",
      "End!\n"
     ]
    }
   ],
   "source": [
    "from random import randint\n",
    "import functions\n",
    "\n",
    "print \"Guessing Numbers!\"\n",
    "print \"Rule: You are given 8 chances, in each chance, type in a four digit number, the system will then return the result as A and B - A means correct number in the correct position; B means correct number in the wrong position.\"\n",
    "raw_input(\"Press Enter to start:\")\n",
    "\n",
    "chance = 8\n",
    "a = randint(1, 9)\n",
    "b = randint(0, 9)\n",
    "c = randint(0, 9)\n",
    "d = randint(0, 9)\n",
    "while not (a!=b and a!=c and a!=d and b!=c and b!=d and c!=d):\n",
    "    a = randint(1, 9)\n",
    "    b = randint(0, 9)\n",
    "    c = randint(0, 9)\n",
    "    d = randint(0, 9)\n",
    "correct_number=a*1000+b*100+c*10+d\n",
    "#print correct_number\n",
    "\n",
    "while chance>0:\n",
    "    guess_number=input(\"please type in four-digit number:\")\n",
    "    while ((type(guess_number)!=type(1234)) or (guess_number<1000) or (guess_number>9999)):\n",
    "        guess_number=input(\"Not qualified, please re-enter:\")\n",
    "    while num_evaluate(guess_number)==0:\n",
    "        guess_number=input(\"Not qualified, please re-enter:\")\n",
    "    if guess_number==correct_number:\n",
    "        print \"You get it! The correct number is \"+`correct_number`+\" !\"\n",
    "        break     \n",
    "    chance -= 1\n",
    "    print num_match(guess_number,correct_number)+\" - You have \"+`chance`+\" chances left!\"\n",
    "\n",
    "if (chance==0):\n",
    "    print \"You lose! The correct number is \"+`correct_number`\n",
    "print \"End!\""
   ]
  },
  {
   "cell_type": "code",
   "execution_count": null,
   "metadata": {
    "collapsed": true
   },
   "outputs": [],
   "source": []
  }
 ],
 "metadata": {
  "kernelspec": {
   "display_name": "Python 2",
   "language": "python",
   "name": "python2"
  },
  "language_info": {
   "codemirror_mode": {
    "name": "ipython",
    "version": 2
   },
   "file_extension": ".py",
   "mimetype": "text/x-python",
   "name": "python",
   "nbconvert_exporter": "python",
   "pygments_lexer": "ipython2",
   "version": "2.7.10"
  }
 },
 "nbformat": 4,
 "nbformat_minor": 2
}
